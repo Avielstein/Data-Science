{
 "cells": [
  {
   "cell_type": "code",
   "execution_count": null,
   "id": "38943da0-ad84-4b39-947f-82e396667c48",
   "metadata": {},
   "outputs": [],
   "source": [
    "#https://www.kaggle.com/datasets/suraj520/rf-signal-data/data"
   ]
  },
  {
   "cell_type": "code",
   "execution_count": 1,
   "id": "195227de-1f9c-4576-86e6-85276b8181b3",
   "metadata": {},
   "outputs": [],
   "source": [
    "import numpy as np\n",
    "import pandas as pd\n",
    "import matplotlib.pyplot as plt\n",
    "import seaborn as sns\n",
    "from sklearn.model_selection import train_test_split\n",
    "from sklearn.linear_model import LinearRegression\n",
    "from sklearn.metrics import mean_squared_error, r2_score\n"
   ]
  },
  {
   "cell_type": "code",
   "execution_count": null,
   "id": "ce6f815d-6995-4181-8199-8f352608a853",
   "metadata": {},
   "outputs": [],
   "source": [
    "# Load your dataset\n",
    "df = pd.read_csv(\"/kaggle/input/rf-signal-data/logged_data.csv\")\n",
    "\n",
    "# Convert Timestamp to datetime for easier manipulation\n",
    "df['Timestamp'] = pd.to_datetime(df['Timestamp'])\n"
   ]
  }
 ],
 "metadata": {
  "kernelspec": {
   "display_name": "Python 3 (ipykernel)",
   "language": "python",
   "name": "python3"
  },
  "language_info": {
   "codemirror_mode": {
    "name": "ipython",
    "version": 3
   },
   "file_extension": ".py",
   "mimetype": "text/x-python",
   "name": "python",
   "nbconvert_exporter": "python",
   "pygments_lexer": "ipython3",
   "version": "3.11.5"
  }
 },
 "nbformat": 4,
 "nbformat_minor": 5
}
