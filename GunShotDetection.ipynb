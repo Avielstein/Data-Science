{
 "cells": [
  {
   "cell_type": "code",
   "execution_count": 1,
   "id": "de36b7a2-d127-4efa-be19-223227edcd48",
   "metadata": {},
   "outputs": [
    {
     "ename": "SyntaxError",
     "evalue": "invalid syntax (2917858619.py, line 1)",
     "output_type": "error",
     "traceback": [
      "\u001b[0;36m  Cell \u001b[0;32mIn[1], line 1\u001b[0;36m\u001b[0m\n\u001b[0;31m    https://www.kaggle.com/datasets/emrahaydemr/gunshot-audio-dataset/code\u001b[0m\n\u001b[0m          ^\u001b[0m\n\u001b[0;31mSyntaxError\u001b[0m\u001b[0;31m:\u001b[0m invalid syntax\n"
     ]
    }
   ],
   "source": [
    "\n",
    "\n",
    "Good starting resources, see if there is some way to test it with \n",
    "\n",
    "https://www.kaggle.com/datasets/emrahaydemr/gunshot-audio-dataset/code\n",
    "https://www.kaggle.com/code/thanapatsripet/gunshot-with-svm\n",
    "https://www.kaggle.com/code/worawitkaew/gunshot-classifier\n",
    "https://www.kaggle.com/code/minjuneyi/gunshot-classification"
   ]
  },
  {
   "cell_type": "code",
   "execution_count": null,
   "id": "d994c71a-a04a-4cf4-9f93-f347607eebd7",
   "metadata": {},
   "outputs": [],
   "source": []
  },
  {
   "cell_type": "code",
   "execution_count": null,
   "id": "d2e639d5-9bb4-44f6-ac51-8eb2638f7f03",
   "metadata": {},
   "outputs": [],
   "source": []
  }
 ],
 "metadata": {
  "kernelspec": {
   "display_name": "Python 3 (ipykernel)",
   "language": "python",
   "name": "python3"
  },
  "language_info": {
   "codemirror_mode": {
    "name": "ipython",
    "version": 3
   },
   "file_extension": ".py",
   "mimetype": "text/x-python",
   "name": "python",
   "nbconvert_exporter": "python",
   "pygments_lexer": "ipython3",
   "version": "3.11.5"
  }
 },
 "nbformat": 4,
 "nbformat_minor": 5
}
