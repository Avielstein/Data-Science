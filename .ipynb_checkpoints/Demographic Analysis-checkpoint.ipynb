{
 "cells": [
  {
   "cell_type": "markdown",
   "metadata": {},
   "source": [
    "# Data Scientist Candidate Problem Set\n",
    " \n",
    "## Overview\n",
    "\n",
    "This challenge is broken up into 3 Parts. This notebook will be the final document that you will submit once complete. You should be able to complete the challenge in 3 hours or less. The goals of each part are\n",
    "\n",
    "- **Part 1**: To assess your technical capabilities regarding basic data manipulation.\n",
    "- **Part 2**: To assess your technical capabilities for applying standard machine learning techniques to a simple data set. Keep in mind that a reasonable, working model is better than a novel solution.\n",
    "- **Part 3**: To assess your approach to problem solving and relating machine learning to real world contexts.\n",
    "\n",
    "In order to understand your thinking processes, please elaborate on your methods using concise markdown and/or in-code comments, however avoid commenting on what is self evident from the code. Examples of the types of commentary we are looking for are\n",
    "\n",
    "- Assumptions made about the data\n",
    "- Insights observed from the data set during exploration\n",
    "- Anything you might have done differently or added with more time\n",
    "\n",
    "Add additional cells as needed to arrive at your solutions. While Question 1 should be answered using [pandas](https://pandas.pydata.org/), you can use any package you wish for Question 2 - just be sure to provide a `requirements.txt` file with the versions of any additional libraries needed to run the notebook.\n",
    "\n",
    "**Note**: The notebook should be capable of being run end to end, without error, assuming that the files `township_train.csv` and `township_test.csv` are in the same directory and `pip install -r requirements.txt` has been run.\n"
   ]
  },
  {
   "cell_type": "markdown",
   "metadata": {
    "jp-MarkdownHeadingCollapsed": true,
    "tags": []
   },
   "source": [
    "## Data Background:\n",
    "Attached to this challenge are two CSVs: \n",
    "\n",
    "1. `township_train.csv`: Overall historical data on historical properties of townships and the number of townhomes within\n",
    "\n",
    "1. `township_test.csv`: A subset of the \"train\" data set used for predictions only in question **2C**\n",
    "\n",
    "##### AJS93 Question, should test be a subset of train? shouldnt it be a holdout?\n",
    "\n",
    "Below is a data dictionary of the columns:\n",
    "- `county_index`: anonymized ID corresponding to a particular county\n",
    "- `township_index`: anonymized ID corresponding to a particular township\n",
    "- `median_income`: the median income of the residents in the township\n",
    "- `count_population`: the total number of residents in the township\n",
    "- `count_large_companies`: the total number of companies located  in the township with 200 employees or more\n",
    "- `count_parks`: the total number of public parks in the township\n",
    "- `count_traffic_lights`: the total number of intersections with traffic lights in the township\n",
    "- `municipal_budget`: the quarterly budget of the township\n",
    "- `count_breweries`: the total number of breweries in the township\n",
    "- `schools_per_10000`: the ratio of the number of schools per 10,000 residents in the township\n",
    "- `municipality_type`: a holistic classification of the township\n",
    "- `count_townhomes`: the number of townhomes in the township\n",
    "\n",
    "**Note:** Townhomes reside in Townships, and Townships reside in Counties"
   ]
  },
  {
   "cell_type": "markdown",
   "metadata": {},
   "source": [
    "**Note**:\n",
    "Assumes this has been run:\n",
    "\n",
    "$ `pip install -r requirements.txt`"
   ]
  },
  {
   "cell_type": "markdown",
   "metadata": {},
   "source": [
    "# Imports"
   ]
  },
  {
   "cell_type": "code",
   "execution_count": 3,
   "metadata": {},
   "outputs": [],
   "source": [
    "import pandas as pd"
   ]
  },
  {
   "cell_type": "markdown",
   "metadata": {},
   "source": [
    "# View data"
   ]
  },
  {
   "cell_type": "code",
   "execution_count": 2,
   "metadata": {},
   "outputs": [
    {
     "data": {
      "text/html": [
       "<div>\n",
       "<style scoped>\n",
       "    .dataframe tbody tr th:only-of-type {\n",
       "        vertical-align: middle;\n",
       "    }\n",
       "\n",
       "    .dataframe tbody tr th {\n",
       "        vertical-align: top;\n",
       "    }\n",
       "\n",
       "    .dataframe thead th {\n",
       "        text-align: right;\n",
       "    }\n",
       "</style>\n",
       "<table border=\"1\" class=\"dataframe\">\n",
       "  <thead>\n",
       "    <tr style=\"text-align: right;\">\n",
       "      <th></th>\n",
       "      <th>county_index</th>\n",
       "      <th>township_index</th>\n",
       "      <th>median_income</th>\n",
       "      <th>count_population</th>\n",
       "      <th>count_large_companies</th>\n",
       "      <th>count_parks</th>\n",
       "      <th>count_traffic_lights</th>\n",
       "      <th>municipal_budget</th>\n",
       "      <th>count_breweries</th>\n",
       "      <th>schools_per_10000</th>\n",
       "      <th>municipality_type</th>\n",
       "      <th>count_townhomes</th>\n",
       "    </tr>\n",
       "  </thead>\n",
       "  <tbody>\n",
       "    <tr>\n",
       "      <th>0</th>\n",
       "      <td>7</td>\n",
       "      <td>0</td>\n",
       "      <td>123449.05</td>\n",
       "      <td>37785.0</td>\n",
       "      <td>9.0</td>\n",
       "      <td>18.0</td>\n",
       "      <td>33.0</td>\n",
       "      <td>89927.99</td>\n",
       "      <td>9.0</td>\n",
       "      <td>1.587932</td>\n",
       "      <td>urban</td>\n",
       "      <td>56.0</td>\n",
       "    </tr>\n",
       "    <tr>\n",
       "      <th>1</th>\n",
       "      <td>5</td>\n",
       "      <td>1</td>\n",
       "      <td>115068.28</td>\n",
       "      <td>96363.0</td>\n",
       "      <td>8.0</td>\n",
       "      <td>20.0</td>\n",
       "      <td>41.0</td>\n",
       "      <td>38657.75</td>\n",
       "      <td>4.0</td>\n",
       "      <td>0.415097</td>\n",
       "      <td>rural</td>\n",
       "      <td>38.0</td>\n",
       "    </tr>\n",
       "    <tr>\n",
       "      <th>2</th>\n",
       "      <td>9</td>\n",
       "      <td>2</td>\n",
       "      <td>122436.73</td>\n",
       "      <td>72146.0</td>\n",
       "      <td>5.0</td>\n",
       "      <td>8.0</td>\n",
       "      <td>37.0</td>\n",
       "      <td>40942.86</td>\n",
       "      <td>9.0</td>\n",
       "      <td>0.693039</td>\n",
       "      <td>urban</td>\n",
       "      <td>25.0</td>\n",
       "    </tr>\n",
       "    <tr>\n",
       "      <th>3</th>\n",
       "      <td>3</td>\n",
       "      <td>3</td>\n",
       "      <td>118320.89</td>\n",
       "      <td>52383.0</td>\n",
       "      <td>14.0</td>\n",
       "      <td>18.0</td>\n",
       "      <td>52.0</td>\n",
       "      <td>82628.78</td>\n",
       "      <td>2.0</td>\n",
       "      <td>1.145410</td>\n",
       "      <td>suburban</td>\n",
       "      <td>69.0</td>\n",
       "    </tr>\n",
       "    <tr>\n",
       "      <th>4</th>\n",
       "      <td>7</td>\n",
       "      <td>4</td>\n",
       "      <td>80629.23</td>\n",
       "      <td>102755.0</td>\n",
       "      <td>13.0</td>\n",
       "      <td>17.0</td>\n",
       "      <td>26.0</td>\n",
       "      <td>103646.80</td>\n",
       "      <td>2.0</td>\n",
       "      <td>0.389275</td>\n",
       "      <td>rural</td>\n",
       "      <td>54.0</td>\n",
       "    </tr>\n",
       "    <tr>\n",
       "      <th>...</th>\n",
       "      <td>...</td>\n",
       "      <td>...</td>\n",
       "      <td>...</td>\n",
       "      <td>...</td>\n",
       "      <td>...</td>\n",
       "      <td>...</td>\n",
       "      <td>...</td>\n",
       "      <td>...</td>\n",
       "      <td>...</td>\n",
       "      <td>...</td>\n",
       "      <td>...</td>\n",
       "      <td>...</td>\n",
       "    </tr>\n",
       "    <tr>\n",
       "      <th>402</th>\n",
       "      <td>4</td>\n",
       "      <td>427</td>\n",
       "      <td>119405.71</td>\n",
       "      <td>74273.0</td>\n",
       "      <td>18.0</td>\n",
       "      <td>17.0</td>\n",
       "      <td>39.0</td>\n",
       "      <td>71142.60</td>\n",
       "      <td>3.0</td>\n",
       "      <td>0.538554</td>\n",
       "      <td>rural</td>\n",
       "      <td>67.0</td>\n",
       "    </tr>\n",
       "    <tr>\n",
       "      <th>403</th>\n",
       "      <td>6</td>\n",
       "      <td>428</td>\n",
       "      <td>110886.78</td>\n",
       "      <td>77521.0</td>\n",
       "      <td>11.0</td>\n",
       "      <td>20.0</td>\n",
       "      <td>31.0</td>\n",
       "      <td>37959.46</td>\n",
       "      <td>5.0</td>\n",
       "      <td>0.773984</td>\n",
       "      <td>rural</td>\n",
       "      <td>49.0</td>\n",
       "    </tr>\n",
       "    <tr>\n",
       "      <th>404</th>\n",
       "      <td>4</td>\n",
       "      <td>429</td>\n",
       "      <td>109351.85</td>\n",
       "      <td>30398.0</td>\n",
       "      <td>10.0</td>\n",
       "      <td>15.0</td>\n",
       "      <td>28.0</td>\n",
       "      <td>56627.17</td>\n",
       "      <td>10.0</td>\n",
       "      <td>1.973814</td>\n",
       "      <td>urban</td>\n",
       "      <td>47.0</td>\n",
       "    </tr>\n",
       "    <tr>\n",
       "      <th>405</th>\n",
       "      <td>5</td>\n",
       "      <td>430</td>\n",
       "      <td>68525.73</td>\n",
       "      <td>40997.0</td>\n",
       "      <td>11.0</td>\n",
       "      <td>11.0</td>\n",
       "      <td>28.0</td>\n",
       "      <td>114728.23</td>\n",
       "      <td>4.0</td>\n",
       "      <td>2.195283</td>\n",
       "      <td>rural</td>\n",
       "      <td>64.0</td>\n",
       "    </tr>\n",
       "    <tr>\n",
       "      <th>406</th>\n",
       "      <td>5</td>\n",
       "      <td>431</td>\n",
       "      <td>111324.40</td>\n",
       "      <td>114783.0</td>\n",
       "      <td>10.0</td>\n",
       "      <td>12.0</td>\n",
       "      <td>21.0</td>\n",
       "      <td>48029.61</td>\n",
       "      <td>15.0</td>\n",
       "      <td>0.522725</td>\n",
       "      <td>rural</td>\n",
       "      <td>42.0</td>\n",
       "    </tr>\n",
       "  </tbody>\n",
       "</table>\n",
       "<p>407 rows × 12 columns</p>\n",
       "</div>"
      ],
      "text/plain": [
       "     county_index  township_index  median_income  count_population  \\\n",
       "0               7               0      123449.05           37785.0   \n",
       "1               5               1      115068.28           96363.0   \n",
       "2               9               2      122436.73           72146.0   \n",
       "3               3               3      118320.89           52383.0   \n",
       "4               7               4       80629.23          102755.0   \n",
       "..            ...             ...            ...               ...   \n",
       "402             4             427      119405.71           74273.0   \n",
       "403             6             428      110886.78           77521.0   \n",
       "404             4             429      109351.85           30398.0   \n",
       "405             5             430       68525.73           40997.0   \n",
       "406             5             431      111324.40          114783.0   \n",
       "\n",
       "     count_large_companies  count_parks  count_traffic_lights  \\\n",
       "0                      9.0         18.0                  33.0   \n",
       "1                      8.0         20.0                  41.0   \n",
       "2                      5.0          8.0                  37.0   \n",
       "3                     14.0         18.0                  52.0   \n",
       "4                     13.0         17.0                  26.0   \n",
       "..                     ...          ...                   ...   \n",
       "402                   18.0         17.0                  39.0   \n",
       "403                   11.0         20.0                  31.0   \n",
       "404                   10.0         15.0                  28.0   \n",
       "405                   11.0         11.0                  28.0   \n",
       "406                   10.0         12.0                  21.0   \n",
       "\n",
       "     municipal_budget  count_breweries  schools_per_10000 municipality_type  \\\n",
       "0            89927.99              9.0           1.587932             urban   \n",
       "1            38657.75              4.0           0.415097             rural   \n",
       "2            40942.86              9.0           0.693039             urban   \n",
       "3            82628.78              2.0           1.145410          suburban   \n",
       "4           103646.80              2.0           0.389275             rural   \n",
       "..                ...              ...                ...               ...   \n",
       "402          71142.60              3.0           0.538554             rural   \n",
       "403          37959.46              5.0           0.773984             rural   \n",
       "404          56627.17             10.0           1.973814             urban   \n",
       "405         114728.23              4.0           2.195283             rural   \n",
       "406          48029.61             15.0           0.522725             rural   \n",
       "\n",
       "     count_townhomes  \n",
       "0               56.0  \n",
       "1               38.0  \n",
       "2               25.0  \n",
       "3               69.0  \n",
       "4               54.0  \n",
       "..               ...  \n",
       "402             67.0  \n",
       "403             49.0  \n",
       "404             47.0  \n",
       "405             64.0  \n",
       "406             42.0  \n",
       "\n",
       "[407 rows x 12 columns]"
      ]
     },
     "execution_count": 2,
     "metadata": {},
     "output_type": "execute_result"
    }
   ],
   "source": [
    "#Read CSV file using pandas\n",
    "#source: https://towardsdatascience.com/how-to-read-csv-file-using-pandas-ab1f5e7e7b58\n",
    "pd.read_csv('township_train.csv')"
   ]
  },
  {
   "cell_type": "markdown",
   "metadata": {},
   "source": [
    "## Question 1: Python/Pandas\n",
    "Using python and `pandas` methodology and the `township_train.csv` data, create a\n",
    "table that captures the following:"
   ]
  },
  {
   "cell_type": "markdown",
   "metadata": {},
   "source": [
    "**A.** The average population for each county: The result should be a `DataFrame` with the columns: `['county_index', 'average_population']`.\n"
   ]
  },
  {
   "cell_type": "code",
   "execution_count": 3,
   "metadata": {},
   "outputs": [
    {
     "data": {
      "text/html": [
       "<div>\n",
       "<style scoped>\n",
       "    .dataframe tbody tr th:only-of-type {\n",
       "        vertical-align: middle;\n",
       "    }\n",
       "\n",
       "    .dataframe tbody tr th {\n",
       "        vertical-align: top;\n",
       "    }\n",
       "\n",
       "    .dataframe thead th {\n",
       "        text-align: right;\n",
       "    }\n",
       "</style>\n",
       "<table border=\"1\" class=\"dataframe\">\n",
       "  <thead>\n",
       "    <tr style=\"text-align: right;\">\n",
       "      <th></th>\n",
       "      <th>county_index</th>\n",
       "      <th>average_population</th>\n",
       "    </tr>\n",
       "  </thead>\n",
       "  <tbody>\n",
       "    <tr>\n",
       "      <th>0</th>\n",
       "      <td>0</td>\n",
       "      <td>80625.250000</td>\n",
       "    </tr>\n",
       "    <tr>\n",
       "      <th>1</th>\n",
       "      <td>1</td>\n",
       "      <td>71472.000000</td>\n",
       "    </tr>\n",
       "    <tr>\n",
       "      <th>2</th>\n",
       "      <td>2</td>\n",
       "      <td>88172.333333</td>\n",
       "    </tr>\n",
       "    <tr>\n",
       "      <th>3</th>\n",
       "      <td>3</td>\n",
       "      <td>101270.333333</td>\n",
       "    </tr>\n",
       "    <tr>\n",
       "      <th>4</th>\n",
       "      <td>4</td>\n",
       "      <td>83148.524590</td>\n",
       "    </tr>\n",
       "    <tr>\n",
       "      <th>5</th>\n",
       "      <td>5</td>\n",
       "      <td>86905.317460</td>\n",
       "    </tr>\n",
       "    <tr>\n",
       "      <th>6</th>\n",
       "      <td>6</td>\n",
       "      <td>71955.620000</td>\n",
       "    </tr>\n",
       "    <tr>\n",
       "      <th>7</th>\n",
       "      <td>7</td>\n",
       "      <td>74647.783784</td>\n",
       "    </tr>\n",
       "    <tr>\n",
       "      <th>8</th>\n",
       "      <td>8</td>\n",
       "      <td>74175.029412</td>\n",
       "    </tr>\n",
       "    <tr>\n",
       "      <th>9</th>\n",
       "      <td>9</td>\n",
       "      <td>103285.561404</td>\n",
       "    </tr>\n",
       "    <tr>\n",
       "      <th>10</th>\n",
       "      <td>10</td>\n",
       "      <td>85951.210526</td>\n",
       "    </tr>\n",
       "    <tr>\n",
       "      <th>11</th>\n",
       "      <td>11</td>\n",
       "      <td>56633.692308</td>\n",
       "    </tr>\n",
       "    <tr>\n",
       "      <th>12</th>\n",
       "      <td>12</td>\n",
       "      <td>82127.647059</td>\n",
       "    </tr>\n",
       "  </tbody>\n",
       "</table>\n",
       "</div>"
      ],
      "text/plain": [
       "    county_index  average_population\n",
       "0              0        80625.250000\n",
       "1              1        71472.000000\n",
       "2              2        88172.333333\n",
       "3              3       101270.333333\n",
       "4              4        83148.524590\n",
       "5              5        86905.317460\n",
       "6              6        71955.620000\n",
       "7              7        74647.783784\n",
       "8              8        74175.029412\n",
       "9              9       103285.561404\n",
       "10            10        85951.210526\n",
       "11            11        56633.692308\n",
       "12            12        82127.647059"
      ]
     },
     "execution_count": 3,
     "metadata": {},
     "output_type": "execute_result"
    }
   ],
   "source": [
    "df = pd.read_csv('township_train.csv')\n",
    "\n",
    "#get number of counties\n",
    "counties = set(df['county_index'])\n",
    "\n",
    "aves = []\n",
    "for c in counties:\n",
    "    pop = []\n",
    "    #https://stackoverflow.com/questions/16476924/how-to-iterate-over-rows-in-a-dataframe-in-pandas\n",
    "    #\"DataFrame.iterrows is a generator which yields both the index and row (as a Series):\"\n",
    "    for index, row in df.iterrows():\n",
    "        #print(row['county_index'], row['count_population'])\n",
    "        if row['county_index'] == c:\n",
    "            #print(row['count_population'])\n",
    "            pop.append(row['count_population'])\n",
    "            \n",
    "    aves.append(sum(pop)/len(pop))\n",
    "\n",
    "#Save as dataframe\n",
    "#https://cmdlinetips.com/2018/01/how-to-create-pandas-dataframe-from-multiple-lists/\n",
    "DataFrame = pd.DataFrame({'county_index':list(counties),'average_population':aves})\n",
    "\n",
    "DataFrame"
   ]
  },
  {
   "cell_type": "markdown",
   "metadata": {},
   "source": [
    "**B.** For each municipality type what is the range of breweries per township: The result should be a `DataFrame` with the columns: `['municipality_type', 'min_breweries', 'max_breweries']`"
   ]
  },
  {
   "cell_type": "code",
   "execution_count": 4,
   "metadata": {},
   "outputs": [
    {
     "data": {
      "text/html": [
       "<div>\n",
       "<style scoped>\n",
       "    .dataframe tbody tr th:only-of-type {\n",
       "        vertical-align: middle;\n",
       "    }\n",
       "\n",
       "    .dataframe tbody tr th {\n",
       "        vertical-align: top;\n",
       "    }\n",
       "\n",
       "    .dataframe thead th {\n",
       "        text-align: right;\n",
       "    }\n",
       "</style>\n",
       "<table border=\"1\" class=\"dataframe\">\n",
       "  <thead>\n",
       "    <tr style=\"text-align: right;\">\n",
       "      <th></th>\n",
       "      <th>county_index</th>\n",
       "      <th>min_breweries</th>\n",
       "      <th>max_breweries</th>\n",
       "    </tr>\n",
       "  </thead>\n",
       "  <tbody>\n",
       "    <tr>\n",
       "      <th>0</th>\n",
       "      <td>suburban</td>\n",
       "      <td>0.0</td>\n",
       "      <td>30.0</td>\n",
       "    </tr>\n",
       "    <tr>\n",
       "      <th>1</th>\n",
       "      <td>urban</td>\n",
       "      <td>0.0</td>\n",
       "      <td>30.0</td>\n",
       "    </tr>\n",
       "    <tr>\n",
       "      <th>2</th>\n",
       "      <td>rural</td>\n",
       "      <td>0.0</td>\n",
       "      <td>30.0</td>\n",
       "    </tr>\n",
       "  </tbody>\n",
       "</table>\n",
       "</div>"
      ],
      "text/plain": [
       "  county_index  min_breweries  max_breweries\n",
       "0     suburban            0.0           30.0\n",
       "1        urban            0.0           30.0\n",
       "2        rural            0.0           30.0"
      ]
     },
     "execution_count": 4,
     "metadata": {},
     "output_type": "execute_result"
    }
   ],
   "source": [
    "#Repeat process from A\n",
    "#this time instead of getting average, we save the max and min of each breweries list\n",
    "\n",
    "df = pd.read_csv('township_train.csv')\n",
    "munis = set(df['municipality_type'])\n",
    "maxs = []\n",
    "mins = []\n",
    "\n",
    "for m in munis:\n",
    "    bews = []\n",
    "    for index, row in df.iterrows():\n",
    "        if row['municipality_type'] == m:\n",
    "            bews.append(row['count_breweries'])\n",
    "            \n",
    "    maxs.append(max(bews))\n",
    "    mins.append(min(bews))\n",
    "\n",
    "DataFrame = pd.DataFrame({'county_index':list(munis),'min_breweries':mins,'max_breweries':maxs})\n",
    "\n",
    "DataFrame"
   ]
  },
  {
   "cell_type": "markdown",
   "metadata": {},
   "source": [
    "**C.** The number of schools by county: The result should be a `DataFrame` with the columns: `['county_index', 'count_schools']`"
   ]
  },
  {
   "cell_type": "code",
   "execution_count": 5,
   "metadata": {},
   "outputs": [
    {
     "data": {
      "text/html": [
       "<div>\n",
       "<style scoped>\n",
       "    .dataframe tbody tr th:only-of-type {\n",
       "        vertical-align: middle;\n",
       "    }\n",
       "\n",
       "    .dataframe tbody tr th {\n",
       "        vertical-align: top;\n",
       "    }\n",
       "\n",
       "    .dataframe thead th {\n",
       "        text-align: right;\n",
       "    }\n",
       "</style>\n",
       "<table border=\"1\" class=\"dataframe\">\n",
       "  <thead>\n",
       "    <tr style=\"text-align: right;\">\n",
       "      <th></th>\n",
       "      <th>county_index</th>\n",
       "      <th>count_schools</th>\n",
       "    </tr>\n",
       "  </thead>\n",
       "  <tbody>\n",
       "    <tr>\n",
       "      <th>0</th>\n",
       "      <td>0</td>\n",
       "      <td>48</td>\n",
       "    </tr>\n",
       "    <tr>\n",
       "      <th>1</th>\n",
       "      <td>1</td>\n",
       "      <td>26</td>\n",
       "    </tr>\n",
       "    <tr>\n",
       "      <th>2</th>\n",
       "      <td>2</td>\n",
       "      <td>40</td>\n",
       "    </tr>\n",
       "    <tr>\n",
       "      <th>3</th>\n",
       "      <td>3</td>\n",
       "      <td>17</td>\n",
       "    </tr>\n",
       "    <tr>\n",
       "      <th>4</th>\n",
       "      <td>4</td>\n",
       "      <td>365</td>\n",
       "    </tr>\n",
       "    <tr>\n",
       "      <th>5</th>\n",
       "      <td>5</td>\n",
       "      <td>370</td>\n",
       "    </tr>\n",
       "    <tr>\n",
       "      <th>6</th>\n",
       "      <td>6</td>\n",
       "      <td>290</td>\n",
       "    </tr>\n",
       "    <tr>\n",
       "      <th>7</th>\n",
       "      <td>7</td>\n",
       "      <td>212</td>\n",
       "    </tr>\n",
       "    <tr>\n",
       "      <th>8</th>\n",
       "      <td>8</td>\n",
       "      <td>378</td>\n",
       "    </tr>\n",
       "    <tr>\n",
       "      <th>9</th>\n",
       "      <td>9</td>\n",
       "      <td>369</td>\n",
       "    </tr>\n",
       "    <tr>\n",
       "      <th>10</th>\n",
       "      <td>10</td>\n",
       "      <td>93</td>\n",
       "    </tr>\n",
       "    <tr>\n",
       "      <th>11</th>\n",
       "      <td>11</td>\n",
       "      <td>58</td>\n",
       "    </tr>\n",
       "    <tr>\n",
       "      <th>12</th>\n",
       "      <td>12</td>\n",
       "      <td>84</td>\n",
       "    </tr>\n",
       "  </tbody>\n",
       "</table>\n",
       "</div>"
      ],
      "text/plain": [
       "    county_index  count_schools\n",
       "0              0             48\n",
       "1              1             26\n",
       "2              2             40\n",
       "3              3             17\n",
       "4              4            365\n",
       "5              5            370\n",
       "6              6            290\n",
       "7              7            212\n",
       "8              8            378\n",
       "9              9            369\n",
       "10            10             93\n",
       "11            11             58\n",
       "12            12             84"
      ]
     },
     "execution_count": 5,
     "metadata": {},
     "output_type": "execute_result"
    }
   ],
   "source": [
    "#Repeat process from A\n",
    "#to get school count we have to do some reverse engineering\n",
    "#and extrapulate from 'count_population' and 'schools_per_10000'\n",
    "\n",
    "df = pd.read_csv('township_train.csv')\n",
    "counties = set(df['county_index'])\n",
    "schools = []\n",
    "\n",
    "for c in counties:\n",
    "    s = []\n",
    "    for index, row in df.iterrows():\n",
    "        if row['county_index'] == c:\n",
    "            s.append(int((row['count_population']/10000)*row['schools_per_10000']))\n",
    "    schools.append(sum(s))\n",
    "DataFrame = pd.DataFrame({'county_index':list(counties),'count_schools':schools})\n",
    "\n",
    "DataFrame"
   ]
  },
  {
   "cell_type": "markdown",
   "metadata": {},
   "source": [
    "## Question 2: Modeling\n",
    "You are hired as a data scientist by a general contractor that constructs townhome communities. These communities are of various sizes as well as various prices and quality.\n",
    "\n",
    "The contractor provides you with the `township_train.csv` dataset which contains the number of townhomes in each township along with various features about the township.\n",
    "\n",
    "Your goal is to perform the following:"
   ]
  },
  {
   "cell_type": "markdown",
   "metadata": {},
   "source": [
    "# imports"
   ]
  },
  {
   "cell_type": "code",
   "execution_count": 4,
   "metadata": {},
   "outputs": [],
   "source": [
    "from sklearn.preprocessing import LabelEncoder\n",
    "from sklearn.model_selection import train_test_split\n",
    "from sklearn.ensemble import RandomForestRegressor\n",
    "from sklearn.metrics import mean_absolute_error, mean_squared_error"
   ]
  },
  {
   "cell_type": "markdown",
   "metadata": {},
   "source": [
    "## Set up the data"
   ]
  },
  {
   "cell_type": "code",
   "execution_count": 23,
   "metadata": {},
   "outputs": [],
   "source": [
    "#get Y (our feature of interest in predicting) and X (data about feature)\n",
    "#https://medium.com/codex/how-to-set-x-and-y-in-pandas-3f38584e9bed\n",
    "df = pd.read_csv('township_train.csv')\n",
    "y_col = 'count_townhomes' #feature of interest\n",
    "y = df[y_col] \n",
    "X = df[df.columns.drop(y_col)]\n",
    "\n",
    "\n",
    "#handle catigorical data\n",
    "#https://www.kaggle.com/getting-started/27270'\n",
    "encode_col = 'municipality_type'\n",
    "X['municipality_type_encoded'] = LabelEncoder().fit_transform(X['municipality_type'])\n",
    "X = X[X.columns.drop(encode_col)]\n",
    "\n",
    "\n",
    "# Split features and target into train and test sets\n",
    "X_train, X_test, y_train, y_test = train_test_split(X, y, random_state=1)\n",
    "\n",
    "#further reading\n",
    "#https://towardsdatascience.com/data-normalization-with-pandas-and-scikit-learn-7c1cc6ed6475"
   ]
  },
  {
   "cell_type": "markdown",
   "metadata": {},
   "source": [
    "**A.** Construct a model that is capable of predicting the number of townhomes in each township.\n",
    "\n",
    "Include any Exploratory Data Analysis (EDA), feature engineering and model training code here. Feel free to organize the contents\n"
   ]
  },
  {
   "cell_type": "code",
   "execution_count": 24,
   "metadata": {},
   "outputs": [],
   "source": [
    "RF = RandomForestRegressor()\n",
    "RF.fit(X_train, y_train);"
   ]
  },
  {
   "cell_type": "markdown",
   "metadata": {},
   "source": [
    "**B.** Provide evaluations of the model's performance"
   ]
  },
  {
   "cell_type": "code",
   "execution_count": 25,
   "metadata": {},
   "outputs": [
    {
     "name": "stdout",
     "output_type": "stream",
     "text": [
      "MAE:  6.2507843137254895\n",
      "MSE:  66.03041372549019\n"
     ]
    }
   ],
   "source": [
    "#https://scikit-learn.org/stable/modules/generated/sklearn.ensemble.RandomForestRegressor.html\n",
    "#https://stackoverflow.com/questions/50789508/random-forest-regression-how-do-i-analyse-its-performance-python-sklearn\n",
    "#https://cnvrg.io/random-forest-regression/\n",
    "\n",
    "pred = RF.predict(X_test)\n",
    "print('MAE: ', mean_absolute_error(y_test, pred))\n",
    "print('MSE: ', mean_squared_error(y_test, pred)) "
   ]
  },
  {
   "cell_type": "markdown",
   "metadata": {},
   "source": [
    "**A&B alternative**\n",
    "\n",
    "Same expirment with support vector machine doesn't do as well"
   ]
  },
  {
   "cell_type": "code",
   "execution_count": 26,
   "metadata": {},
   "outputs": [
    {
     "name": "stdout",
     "output_type": "stream",
     "text": [
      "MAE:  10.657976628866644\n",
      "MSE:  181.29109887209552\n"
     ]
    }
   ],
   "source": [
    "#Support vector machine\n",
    "from sklearn.svm import SVR\n",
    "#https://medium.com/pursuitnotes/support-vector-regression-in-6-steps-with-python-c4569acd062d\n",
    "#also has good info on feature cleaning\n",
    "regressor = SVR(kernel='rbf')\n",
    "regressor.fit(X,y)\n",
    "pred = regressor.predict(X_test)\n",
    "print('MAE: ', mean_absolute_error(y_test, pred))\n",
    "print('MSE: ', mean_squared_error(y_test, pred))"
   ]
  },
  {
   "cell_type": "markdown",
   "metadata": {},
   "source": [
    "**C.** Using the `township_test.csv`, predict the number of townhomes for each township."
   ]
  },
  {
   "cell_type": "code",
   "execution_count": 28,
   "metadata": {},
   "outputs": [
    {
     "data": {
      "text/plain": [
       "array([53.46, 47.29, 52.25, 75.04, 55.66, 55.4 , 67.93, 53.21, 49.73,\n",
       "       35.4 , 40.31, 75.44, 50.13, 50.43, 33.51, 55.6 , 49.32, 41.63,\n",
       "       77.02, 30.12, 44.19, 87.29, 51.83, 45.64, 45.39])"
      ]
     },
     "execution_count": 28,
     "metadata": {},
     "output_type": "execute_result"
    }
   ],
   "source": [
    "#get our testing data\n",
    "test_df = pd.read_csv('township_test.csv')\n",
    "\n",
    "#handle catigorical data\n",
    "encode_col = 'municipality_type'\n",
    "test_df['municipality_type_encoded'] = LabelEncoder().fit_transform(test_df['municipality_type'])\n",
    "test_df = test_df[test_df.columns.drop(encode_col)]\n",
    "\n",
    "RF.predict(test_df)"
   ]
  },
  {
   "cell_type": "markdown",
   "metadata": {},
   "source": [
    "**Note**:\n",
    "\n",
    "we should read these results as +/- 6, the Mean Absolulte Error (MAE) obtained in part B"
   ]
  },
  {
   "cell_type": "markdown",
   "metadata": {},
   "source": [
    "# Question 3: Business Insight\n",
    "The results of your model need to be reported back to the contractor.\n",
    "\n",
    "Using the information you have gathered from creating and validating the model as well as your own intuition, please answer the following questions:"
   ]
  },
  {
   "cell_type": "markdown",
   "metadata": {},
   "source": [
    "**A.** What are some considerations to be made when determining a location for the construction of a new townhome community?"
   ]
  },
  {
   "cell_type": "markdown",
   "metadata": {},
   "source": [
    "##### You could look at each county and which townships have a good number of townhomes. If a high number of townhomes is a good then (e.g. indicates good conditions for townhomes), then that might be a good place to locate. On the other hand, if a high number of townhomes indicates oversaturation, then finding a place that has fewer than predicted townhomes may indicate an underserved market. "
   ]
  },
  {
   "cell_type": "markdown",
   "metadata": {},
   "source": [
    "**B.** Knowing that townhomes can be built at a variety of price and quality, what considerations would you have if you were required to recommend a townhome of a specific quality type to a location?"
   ]
  },
  {
   "cell_type": "markdown",
   "metadata": {},
   "source": [
    "##### If your goal is to create houses of commensurate quality as those around it, then creating a model that predicted the qualitly could be set up in a similar way to the process in part 2, this time with classifiers. Though I think it would be more dependent on much more low level data about the streets than on a township level. This data might also be able to show where townships need more schools or have too many bars for example."
   ]
  },
  {
   "cell_type": "markdown",
   "metadata": {},
   "source": [
    "**C.** What other information could the contractor have provided that could have enabled the construction of a more informative model?"
   ]
  },
  {
   "cell_type": "markdown",
   "metadata": {},
   "source": [
    "##### Other statisics such as family size or infomation about schools quality and what kind of business are in the area. If you used map data you could create a computer vison model. "
   ]
  },
  {
   "cell_type": "markdown",
   "metadata": {},
   "source": [
    "# Wrap-up\n",
    "\n",
    "**Note**:\n",
    "I havent used requirments.txt document before, so here was some stuff I found about about:\n",
    "\n",
    "https://towardsdatascience.com/requirements-vs-setuptools-python-ae3ee66e28af#:~:text=txt%20file-,The%20requirements.,of%20dependencies%2C%20as%20discussed%20previously.\n",
    "\n",
    "I also found that there is a nice quality of life python tool that can get this information for you called session_info\n",
    "\n",
    "https://towardsdatascience.com/generating-a-requirements-file-jupyter-notebook-385f1c315b52#:~:text=The%20Pythonic%20Way%3A%20Pip%20Freeze&text=Simply%20open%20a%20terminal%20and,environment%20using%20venv%20or%20conda.&text=It%20will%20take%20every%20package%20you%20have%20installed%20on%20that%20environment.\n",
    "\n"
   ]
  },
  {
   "cell_type": "code",
   "execution_count": 6,
   "metadata": {},
   "outputs": [],
   "source": [
    "#download session info in jupiter\n",
    "#!pip install session-info\n",
    "#import session_info\n",
    "#session_info.show()"
   ]
  }
 ],
 "metadata": {
  "kernelspec": {
   "display_name": "Python 3",
   "language": "python",
   "name": "python3"
  },
  "language_info": {
   "codemirror_mode": {
    "name": "ipython",
    "version": 3
   },
   "file_extension": ".py",
   "mimetype": "text/x-python",
   "name": "python",
   "nbconvert_exporter": "python",
   "pygments_lexer": "ipython3",
   "version": "3.6.10"
  }
 },
 "nbformat": 4,
 "nbformat_minor": 5
}
